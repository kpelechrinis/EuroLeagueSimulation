{
 "cells": [
  {
   "cell_type": "code",
   "execution_count": 9,
   "metadata": {},
   "outputs": [],
   "source": [
    "# get ratings\n",
    "import a1_rtgs\n",
    "\n",
    "# get the team ratings\n",
    "d = a1_rtgs.bball_ratings(\"results.csv\")"
   ]
  },
  {
   "cell_type": "code",
   "execution_count": 10,
   "metadata": {},
   "outputs": [],
   "source": [
    "# make predictions for the rest of the games \n",
    "import a1_preds\n",
    "\n",
    "preds = a1_preds.predictions(\"remaining_regular_season.csv\",d)"
   ]
  },
  {
   "cell_type": "code",
   "execution_count": 11,
   "metadata": {},
   "outputs": [
    {
     "name": "stdout",
     "output_type": "stream",
     "text": [
      "++++++++++++++++Final Standings++++++++++++++++\n",
      "Panathinaikos OPAP 48\n",
      "AEK Athens 44\n",
      "Peristeri 42\n",
      "Promitheas Patras 42\n",
      "Lavrio B.C. 39\n",
      "Ifaistos Limnou 37\n",
      "Iraklis B.C. 36\n",
      "Larisa 35\n",
      "Rethymno Aegean 35\n",
      "Kolossos Rodou 35\n",
      "Ionikos Nikaias 34\n",
      "P.A.O.K. 33\n",
      "Aris 33\n",
      "Panionios 32\n",
      "++++++++++++++++End Standings++++++++++++++++\n",
      "\n",
      "Entering Playoffs:  Panathinaikos OPAP,AEK Athens,Peristeri,Promitheas Patras,Lavrio B.C.,Ifaistos Limnou,Iraklis B.C.,Larisa\n",
      "Relegating:  Aris,Panionios\n"
     ]
    }
   ],
   "source": [
    "# find final standings\n",
    "import pandas as pd \n",
    "import numpy as np \n",
    "\n",
    "f_res = \"results.csv\"\n",
    "df = pd.read_csv(f_res)\n",
    "games = preds\n",
    "df['ptsDiff'] = df['GH']-df['GA']\n",
    "df = df.drop(['Date','Nothing','Overtimes','Notes','GA','GH'],axis=1)\n",
    "final_df = pd.concat([df,games],sort=False).reset_index()\n",
    "teams = list(set(df.home.unique()) & set(df.away.unique()))\n",
    "points = { i : 0 for i in teams }\n",
    "standings = []\n",
    "\n",
    "for i in range(len(final_df)):\n",
    "    if final_df['ptsDiff'][i] > 0:\n",
    "        points[final_df['home'][i]] += 2\n",
    "        points[final_df['away'][i]] += 1\n",
    "    else:\n",
    "        points[final_df['home'][i]] += 1\n",
    "        points[final_df['away'][i]] += 2\n",
    "        \n",
    "points = {k: v for k, v in sorted(points.items(), key=lambda item: item[1],reverse=True)}\n",
    "\n",
    "print(\"++++++++++++++++Final Standings++++++++++++++++\")\n",
    "ties = {}\n",
    "for pair in points.items():\n",
    "    if pair[1] not in ties.keys():\n",
    "        ties[pair[1]] = []\n",
    "    ties[pair[1]].append(pair[0])\n",
    "for i in range(len(ties)):\n",
    "    if len(list(ties.values())[i]) != 1:\n",
    "        tie_dict = {i: [0,0] for i in list(ties.values())[i]}\n",
    "        for g in range(len(final_df)):\n",
    "            if final_df['home'][g] in tie_dict.keys() and final_df['away'][g] in tie_dict.keys():\n",
    "                if final_df['ptsDiff'][g] > 0:\n",
    "                    tie_dict[final_df['home'][g]][0] += 1\n",
    "                else:\n",
    "                    tie_dict[final_df['away'][g]][0] += 1\n",
    "                tie_dict[final_df['home'][g]][1] += final_df['ptsDiff'][g]\n",
    "                tie_dict[final_df['away'][g]][1] -= final_df['ptsDiff'][g]\n",
    "        tie_stand = {k: v for k, v in sorted(tie_dict.items(), key=lambda item: item[1],reverse=True)}\n",
    "        for t in range(len(tie_stand.keys())):\n",
    "                print(list(tie_stand.keys())[t],list(ties.keys())[i])\n",
    "                standings.append(list(tie_stand.keys())[t])\n",
    "    else:\n",
    "        print(list(ties.values())[i][0],list(ties.keys())[i])\n",
    "        standings.append(list(ties.values())[i][0])\n",
    "print(\"++++++++++++++++End Standings++++++++++++++++\")\n",
    "print()\n",
    "print(\"Entering Playoffs: \",','.join(map(str,standings[0:8])))\n",
    "print(\"Relegating: \", ','.join(map(str,standings[12:14])))"
   ]
  },
  {
   "cell_type": "code",
   "execution_count": 12,
   "metadata": {},
   "outputs": [],
   "source": [
    "# simulate a playoff series\n",
    "\n",
    "def series_playoff(t1,t2,best_of, rtgs):\n",
    "    if best_of == 5:\n",
    "        W = 3\n",
    "    else:\n",
    "        if best_of == 3:\n",
    "            W = 2\n",
    "        else:\n",
    "            print(\"Best of 3 or 5 series\")\n",
    "            return \n",
    "    wins = 0\n",
    "    loses = 0\n",
    "    for i in list(range(1,best_of+1)):\n",
    "        if (i % 2) != 0:\n",
    "            if np.random.normal(d['Home']+d[t1]-d[t2],12) > 0:\n",
    "                wins+=1\n",
    "            else:\n",
    "                loses+=1\n",
    "        else:\n",
    "            if np.random.normal(d['Home']+d[t2]-d[t1],12) > 0:\n",
    "                loses += 1\n",
    "            else:\n",
    "                wins += 1\n",
    "        if wins == W:\n",
    "            break\n",
    "    return wins, loses"
   ]
  },
  {
   "cell_type": "markdown",
   "metadata": {},
   "source": [
    "# 1st round"
   ]
  },
  {
   "cell_type": "code",
   "execution_count": 13,
   "metadata": {},
   "outputs": [
    {
     "name": "stdout",
     "output_type": "stream",
     "text": [
      "Panathinaikos OPAP wins series against  Larisa :  2 - 0\n",
      "AEK Athens wins series against  Iraklis B.C. :  2 - 0\n",
      "Peristeri wins series against  Ifaistos Limnou :  2 - 1\n",
      "Promitheas Patras wins series against  Lavrio B.C. :  2 - 1\n"
     ]
    }
   ],
   "source": [
    "# first matchup\n",
    "advance_to_second_round = []\n",
    "t1 = standings[0]\n",
    "t2 = standings[7]\n",
    "wins, loses = series_playoff(t1,t2,3,d)\n",
    "if wins == 2:\n",
    "    advance_to_second_round.append(t1)\n",
    "    print(t1,\"wins series against \", t2,\": \",wins,\"-\",loses)\n",
    "else:\n",
    "    print(t2,\"wins series against \", t1,\": \",loses,\"-\",wins)\n",
    "    advance_to_second_round.append(t2)\n",
    "\n",
    "#second matchup\n",
    "t1 = standings[1]\n",
    "t2 = standings[6]\n",
    "wins, loses = series_playoff(t1,t2,3,d)\n",
    "if wins == 2:\n",
    "    advance_to_second_round.append(t1)\n",
    "    print(t1,\"wins series against \", t2,\": \",wins,\"-\",loses)\n",
    "else:\n",
    "    print(t2,\"wins series against \", t1,\": \",loses,\"-\",wins)\n",
    "    advance_to_second_round.append(t2)\n",
    "\n",
    "#third matchup\n",
    "t1 = standings[2]\n",
    "t2 = standings[5]\n",
    "wins, loses = series_playoff(t1,t2,3,d)\n",
    "if wins == 2:\n",
    "    advance_to_second_round.append(t1)\n",
    "    print(t1,\"wins series against \", t2,\": \",wins,\"-\",loses)\n",
    "else:\n",
    "    print(t2,\"wins series against \", t1,\": \",loses,\"-\",wins)\n",
    "    advance_to_second_round.append(t2)\n",
    "    \n",
    "#fourth matchup\n",
    "t1 = standings[3]\n",
    "t2 = standings[4]\n",
    "wins, loses = series_playoff(t1,t2,3,d)\n",
    "if wins == 2:\n",
    "    advance_to_second_round.append(t1)\n",
    "    print(t1,\"wins series against \", t2,\": \",wins,\"-\",loses)\n",
    "else:\n",
    "    print(t2,\"wins series against \", t1,\": \",loses,\"-\",wins)\n",
    "    advance_to_second_round.append(t2)\n"
   ]
  },
  {
   "cell_type": "markdown",
   "metadata": {},
   "source": [
    "## 2nd round"
   ]
  },
  {
   "cell_type": "code",
   "execution_count": 14,
   "metadata": {},
   "outputs": [
    {
     "name": "stdout",
     "output_type": "stream",
     "text": [
      "Panathinaikos OPAP wins series against  Promitheas Patras :  3 - 1\n",
      "AEK Athens wins series against  Peristeri :  3 - 0\n"
     ]
    }
   ],
   "source": [
    "# first matchup\n",
    "t1 = advance_to_second_round[0]\n",
    "t2 = advance_to_second_round[3]\n",
    "if standings.index(t1) > standings.index(t2):\n",
    "    t1 = advance_to_second_round[3]\n",
    "    t2 = advance_to_second_round[0]\n",
    "\n",
    "advance_to_finals = []\n",
    "small_finals = []\n",
    "wins, loses = series_playoff(t1,t2,5,d)\n",
    "if wins == 3:\n",
    "    advance_to_finals.append(t1)\n",
    "    small_finals.append(t2)\n",
    "    print(t1,\"wins series against \", t2,\": \",wins,\"-\",loses)\n",
    "else:\n",
    "    print(t2,\"wins series against \", t1,\": \",loses,\"-\",wins)\n",
    "    advance_to_finals.append(t2)\n",
    "    small_finals.append(t1)\n",
    "    \n",
    "# second matchup\n",
    "t1 = advance_to_second_round[1]\n",
    "t2 = advance_to_second_round[2]\n",
    "if standings.index(t1) > standings.index(t2):\n",
    "    t1 = advance_to_second_round[3]\n",
    "    t2 = advance_to_second_round[0]\n",
    "\n",
    "wins, loses = series_playoff(t1,t2,5,d)\n",
    "if wins == 3:\n",
    "    advance_to_finals.append(t1)\n",
    "    small_finals.append(t2)\n",
    "    print(t1,\"wins series against \", t2,\": \",wins,\"-\",loses)\n",
    "else:\n",
    "    print(t2,\"wins series against \", t1,\": \",loses,\"-\",wins)\n",
    "    advance_to_finals.append(t2)\n",
    "    small_finals.append(t1)"
   ]
  },
  {
   "cell_type": "code",
   "execution_count": 15,
   "metadata": {},
   "outputs": [
    {
     "name": "stdout",
     "output_type": "stream",
     "text": [
      "Peristeri wins small final series against  Promitheas Patras :  3 - 1\n"
     ]
    }
   ],
   "source": [
    "# small final\n",
    "t1 = small_finals[1]\n",
    "t2 = small_finals[0]\n",
    "if standings.index(t1) > standings.index(t2):\n",
    "    t1 = small_finals[0]\n",
    "    t2 = small_finals[1]\n",
    "\n",
    "wins, loses = series_playoff(t1,t2,5,d)\n",
    "if wins == 3:\n",
    "    print(t1,\"wins small final series against \", t2,\": \",wins,\"-\",loses)\n",
    "else:\n",
    "    print(t2,\"wins small final series against \", t1,\": \",loses,\"-\",wins)"
   ]
  },
  {
   "cell_type": "code",
   "execution_count": 16,
   "metadata": {},
   "outputs": [
    {
     "name": "stdout",
     "output_type": "stream",
     "text": [
      "Panathinaikos OPAP wins finals series against  AEK Athens :  3 - 0\n"
     ]
    }
   ],
   "source": [
    "# finals\n",
    "t1 = advance_to_finals[1]\n",
    "t2 = advance_to_finals[0]\n",
    "if standings.index(t1) > standings.index(t2):\n",
    "    t1 = advance_to_finals[0]\n",
    "    t2 = advance_to_finals[1]\n",
    "\n",
    "wins, loses = series_playoff(t1,t2,5,d)\n",
    "if wins == 3:\n",
    "    print(t1,\"wins finals series against \", t2,\": \",wins,\"-\",loses)\n",
    "else:\n",
    "    print(t2,\"wins finals series against \", t1,\": \",loses,\"-\",wins)"
   ]
  }
 ],
 "metadata": {
  "kernelspec": {
   "display_name": "Python 3",
   "language": "python",
   "name": "python3"
  },
  "language_info": {
   "codemirror_mode": {
    "name": "ipython",
    "version": 3
   },
   "file_extension": ".py",
   "mimetype": "text/x-python",
   "name": "python",
   "nbconvert_exporter": "python",
   "pygments_lexer": "ipython3",
   "version": "3.6.8"
  }
 },
 "nbformat": 4,
 "nbformat_minor": 2
}
